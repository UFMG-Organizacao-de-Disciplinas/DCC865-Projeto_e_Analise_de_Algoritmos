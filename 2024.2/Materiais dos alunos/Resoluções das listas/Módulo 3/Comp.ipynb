{
 "cells": [
  {
   "cell_type": "code",
   "execution_count": 7,
   "metadata": {},
   "outputs": [
    {
     "name": "stdout",
     "output_type": "stream",
     "text": [
      "3\n"
     ]
    }
   ],
   "source": [
    "teste = [\n",
    "    [8, 1, 7, 5, 0]\n",
    "]\n",
    "\n",
    "teste_atual = teste[0]\n",
    "\n",
    "\n",
    "def median_of_five(five_values):\n",
    "    a, b, c, d, e = five_values\n",
    "    if a > b:\n",
    "        a, b = b, a\n",
    "    if c > d:\n",
    "        c, d = d, c\n",
    "    if a > c:\n",
    "        a, c = c, a\n",
    "    if b > e:\n",
    "        b, e = e, b\n",
    "    if b > d:\n",
    "        b, d = d, b\n",
    "    if c > d:\n",
    "        c, d = d, c\n",
    "    return c\n",
    "\n",
    "a, b, c, d, e = teste_atual\n",
    "\n",
    "min_ab, max_ab = (a, b) if a < b else (b, a)\n",
    "min_cd, max_cd = (c, d) if c < d else (d, c)\n",
    "\n",
    "minmin_abcd, minmax_abcd = (min_ab, min_cd) if min_ab < min_cd else (min_cd, min_ab)\n",
    "maxmax_abcd, maxmin_abcd = (max_cd, max_ab) if max_ab < max_cd else (max_ab, max_cd)\n",
    "\n",
    "# minmin_abcd, ..., ..., ..., maxmax_abcd\n",
    "new_less = e if e < minmax_abcd else minmax_abcd\n",
    "mean = new_less if maxmin_abcd < new_less else maxmin_abcd\n",
    "\n",
    "print(a, b, c, d, e)\n",
    "print(min_ab, max_ab, min_cd, max_cd)\n",
    "print(mean)"
   ]
  }
 ],
 "metadata": {
  "kernelspec": {
   "display_name": "Python 3",
   "language": "python",
   "name": "python3"
  },
  "language_info": {
   "codemirror_mode": {
    "name": "ipython",
    "version": 3
   },
   "file_extension": ".py",
   "mimetype": "text/x-python",
   "name": "python",
   "nbconvert_exporter": "python",
   "pygments_lexer": "ipython3",
   "version": "3.12.4"
  }
 },
 "nbformat": 4,
 "nbformat_minor": 2
}
