{
 "cells": [
  {
   "cell_type": "markdown",
   "metadata": {},
   "source": [
    "# [Festival de Estátuas de Gelo][Festival]\n",
    "\n",
    "[Festival]: https://judge.beecrowd.com/pt/problems/view/1034\n",
    "\n",
    "Por Wanderley Guimarães, USP  Brasil\n",
    "\n",
    "Timelimit: 3\n",
    "\n",
    "![img](https://resources.beecrowd.com/gallery/images/problems/UOJ_1034.jpg)\n",
    "\n",
    "---\n",
    "\n",
    "Todos os anos, artistas de todo o mundo se reúnem na cidade, onde fazem esculturas de gelo gigantescas. A cidade vira uma galeria de arte ao céu aberto, uma vez que as esculturas ficam expostas na rua por semanas, sem derreter. Afinal, a temperatura média no inverno de Harbin (época em que ocorrerá a final mundial do ICPC) é de -20 graus.\n",
    "\n",
    "O primeiro passo para fazer a escultura é montar um grande bloco de gelo da dimensão pedida pelo artista. Os blocos são recortados das geleiras de Harbin em blocos de altura e profundidade padrão e vários comprimentos diferentes. O artista pode determinar qual o comprimento que ele deseja que tenha o seu bloco de gelo para que a escultura possa começar a ser esculpida.\n",
    "\n",
    "Os comprimentos disponíveis dos blocos são $\\{a_1; a_2; \\dots;  a_N\\}$ e o comprimento que o artista deseja é $M$. O bloco de comprimento $1$ é muito usado, por este motivo ele sempre aparece na lista de blocos disponíveis. Sua tarefa é determinar o número mínimo de blocos tal que a soma de seus comprimentos seja $M$.\n",
    "\n",
    "## Entrada (Festival de Estátuas de Gelo)\n",
    "\n",
    "A entrada é composta por diversas instâncias. A primeira linha da entrada contém um inteiro $T$ indicando o número de instâncias. A primeira linha de cada instância contém dois inteiros $N (1 \\leq N \\leq 25)$ e $M (1 \\leq M \\leq 1000000)$ representando o número de tipos de blocos e o comprimento desejado pelo artista, respectivamente. A próxima linha contém os inteiros $a_1; a_2; \\dots; a_N$, onde $(1 \\leq a_i \\leq 100)$ para todo $i (1, 2, \\dots, N)$ separados por espaço.\n",
    "\n",
    "## Saída (Festival de Estátuas de Gelo)\n",
    "\n",
    "Para cada instância, imprima o número mínimo de blocos necessários para obter um bloco de comprimento $M$.\n",
    "\n",
    "## Exemplos (Festival de Estátuas de Gelo)\n",
    "\n",
    "| Exemplo de Entrada | Exemplo de Saída |\n",
    "| -----------------: | ---------------: |\n",
    "|                  2 |           &nbsp; |\n",
    "|              6 100 |                2 |\n",
    "|    1 5 10 15 25 50 |           &nbsp; |\n",
    "|              2 103 |               23 |\n",
    "|                1 5 |           &nbsp; |\n",
    "\n",
    "XIII Maratona de Programação IME-USP 2009.\n"
   ]
  }
 ],
 "metadata": {
  "language_info": {
   "name": "python"
  }
 },
 "nbformat": 4,
 "nbformat_minor": 2
}
