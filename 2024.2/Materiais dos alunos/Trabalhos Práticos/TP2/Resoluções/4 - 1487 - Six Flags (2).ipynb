{
 "cells": [
  {
   "cell_type": "markdown",
   "metadata": {},
   "source": [
    "# [Six Flags][SixFlags]\n",
    "\n",
    "[SixFlags]: https://judge.beecrowd.com/pt/problems/view/1487\n",
    "\n",
    "IX Maratona de Programação IME-USP Brasil\n",
    "\n",
    "Timelimit: 1\n",
    "\n",
    "---\n",
    "\n",
    "O Six Flags Fiesta Texas é um dos maiores parques de diversão do mundo, e fica em San Antonio. Sabendo que as finais do ACM-ICPC de 2006 serão naquela cidade, três colegas começaram a planejar em quais dos famosos brinquedos eles iriam, caso seu time se classificasse para as finais mundiais.\n",
    "\n",
    "Para isso, estabeleceram notas para cada uma das atrações de acordo com o quanto eles gostariam de brincar lá. Por exemplo, a montanha russa \"Superman Krypton Coaster\" (que tem 800 m de giros, loops e quedas com o carrinho indo a mais de 100 km/h) recebeu a maior pontuação possível entre os colegas.\n",
    "\n",
    "O problema é que é impossível visitar todas as atrações em um mesmo dia. Assim, os colegas pesquisaram, para cada uma delas, quanto tempo durava o brinquedo (e quanto tempo de fila teriam de enfrentar até chegar a ele...). Sua tarefa neste problema é encontrar, dado o tempo disponível pelos colegas no Six Flags, uma coleção (pode haver repetições) de atrações que dá a maior pontuação dentro deste período.\n",
    "\n",
    "## Entrada (Six Flags)\n",
    "\n",
    "Seu programa deve estar preparado para processar diversas instâncias. Na primeira linha são dados dois inteiros $0 \\leq N \\leq 100$ e $0 \\leq T \\leq 600$, em que $N$ é o número de atrações nas quais os colegas gostariam de brincar, e $T$ é o tempo (em minutos) que eles terão disponível para isso. Nas próximas $N$ linhas, são dados dois inteiros $0 \\leq D \\leq 600$ e $0 \\leq P \\leq 100$ (em cada linha). O primeiro deles, $D$, representa a duração do brinquedo (incluído aí o tempo de fila e uma estimativa do tempo de traslado entre os brinquedos). O segundo, $P$, representa a pontuação atribuída ao brinquedo pelos colegas. Um valor $N = 0$ indica o final das instâncias e não deverá ser processado.\n",
    "\n",
    "## Saída (Six Flags)\n",
    "\n",
    "Para cada instância solucionada, você deverá imprimir um identificador Instancia $H$ em que $H$ é um número inteiro, sequencial e crescente a partir de $1$. Na linha seguinte, deve ser impressa a pontuação total conseguida com a coleção determinada por seu programa. Com relação a quais são as atrações da coleção determinada, os colegas decidiram que iriam perguntar para você pessoalmente no futuro, já que eles não querem que outras pessoas saibam e venham a utilizá-la. Uma linha em branco deve ser impressa após cada caso de teste.\n",
    "\n",
    "## Exemplos (Six Flags)\n",
    "\n",
    "| Exemplo de Entrada | Exemplo de Saída |\n",
    "| -----------------: | :--------------- |\n",
    "|               5 60 | Instancia 1      |\n",
    "|              10 30 | 180              |\n",
    "|              20 32 | &nbsp;           |\n",
    "|                5 4 | &nbsp;           |\n",
    "|              50 90 | &nbsp;           |\n",
    "|              22 45 | &nbsp;           |\n",
    "|               5 60 | Instancia 2      |\n",
    "|              10 10 | 104              |\n",
    "|              20 32 | &nbsp;           |\n",
    "|                5 4 | &nbsp;           |\n",
    "|              50 90 | &nbsp;           |\n",
    "|              22 45 | &nbsp;           |\n",
    "|                0 0 | &nbsp;           |\n",
    "\n",
    "IX Maratona de Programação IME-USP 2005.\n",
    "\n",
    "---\n"
   ]
  },
  {
   "cell_type": "code",
   "execution_count": 5,
   "metadata": {},
   "outputs": [
    {
     "name": "stdout",
     "output_type": "stream",
     "text": [
      "Instancia 1\n",
      " 180\n",
      "\n",
      "Instancia 2\n",
      " 104\n",
      "\n"
     ]
    }
   ],
   "source": [
    "\"\"\" Direto e reto \"\"\"\n",
    "\n",
    "\n",
    "def unbouded_knapsack(max_weight, item_quantity, weights, values):\n",
    "    values_by_weight = [0] * (max_weight + 1)\n",
    "    for weight in range(max_weight + 1):\n",
    "        for index in range(item_quantity):\n",
    "            current_item_weight = weights[index]\n",
    "            if current_item_weight <= weight:\n",
    "                # Adds item to knapsack\n",
    "                current_max_value = values_by_weight[weight - current_item_weight] + values[index]\n",
    "                # Doesn't add item to knapsack\n",
    "                previous_max_value = values_by_weight[weight]\n",
    "                values_by_weight[weight] = max(\n",
    "                    current_max_value, previous_max_value)\n",
    "    return values_by_weight[max_weight]\n",
    "\n",
    "def get_int_pair():\n",
    "    return map(int, input().split())\n",
    "\n",
    "N, T = get_int_pair() # 0 <= N <= 100; 0 <= T <= 600; N: número de atrações; T: tempo disponível em minutos\n",
    "\n",
    "H = 1\n",
    "\n",
    "while N != 0:\n",
    "    duracoes = []\n",
    "    pontuacoes = []\n",
    "    for i in range(N):\n",
    "        D, P = get_int_pair() # 0 <= D <= 600; 0 <= P <= 100; D: duração da atração; P: pontuação da atração\n",
    "        duracoes.append(D)\n",
    "        pontuacoes.append(P)\n",
    "    \n",
    "    valor_maximo = unbouded_knapsack(T, N, duracoes, pontuacoes)\n",
    "    \n",
    "    print(f'Instancia {H}\\n{valor_maximo}\\n')\n",
    "    H += 1\n",
    "    N, T = get_int_pair()"
   ]
  },
  {
   "cell_type": "code",
   "execution_count": null,
   "metadata": {},
   "outputs": [],
   "source": []
  }
 ],
 "metadata": {
  "kernelspec": {
   "display_name": "Python 3",
   "language": "python",
   "name": "python3"
  },
  "language_info": {
   "codemirror_mode": {
    "name": "ipython",
    "version": 3
   },
   "file_extension": ".py",
   "mimetype": "text/x-python",
   "name": "python",
   "nbconvert_exporter": "python",
   "pygments_lexer": "ipython3",
   "version": "3.12.4"
  }
 },
 "nbformat": 4,
 "nbformat_minor": 2
}
