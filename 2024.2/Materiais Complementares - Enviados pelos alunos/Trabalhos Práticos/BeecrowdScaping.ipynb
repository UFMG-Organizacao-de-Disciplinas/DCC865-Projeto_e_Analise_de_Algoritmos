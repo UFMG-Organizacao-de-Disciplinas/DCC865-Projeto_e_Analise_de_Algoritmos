{
 "cells": [
  {
   "cell_type": "code",
   "execution_count": 4,
   "metadata": {},
   "outputs": [
    {
     "name": "stdout",
     "output_type": "stream",
     "text": [
      "3a3b2c\n",
      "3a2bca2b4c\n",
      "a\n"
     ]
    }
   ],
   "source": [
    "\"\"\" Algorith to convert sequence of characters into the count followed by the character\n",
    "Ex.: 'aaabbbcc' -> '3a3b2c'\n",
    "If it has only one character, it should return the character itself\n",
    "Ex.: 'aaabbcabbcccc' -> '3a2bca2b4c'\n",
    "\"\"\"\n",
    "# -*- coding: utf-8 -*-\n",
    "\n",
    "def compress_string(s):\n",
    "    if not s:\n",
    "        return ''\n",
    "    if len(s) == 1:\n",
    "        return s\n",
    "    count = 1\n",
    "    compressed = ''\n",
    "    for i in range(1, len(s)):\n",
    "        if s[i] == s[i-1]:\n",
    "            count += 1\n",
    "        else:\n",
    "            compressed += str(count) + s[i-1]\n",
    "            count = 1\n",
    "    compressed += str(count) + s[-1]\n",
    "    compressed = compressed.replace('1', '')\n",
    "    return compressed\n",
    "\n",
    "def filter_entries(all_strings):\n",
    "    needed_entries = [1, 2, 3]\n",
    "    filtered_entries = []\n",
    "    for entry in needed_entries:\n",
    "        filtered_entries.append(all_strings[entry])\n",
    "    return filtered_entries\n",
    "\n",
    "def bee_crowd_print(full_string, index):\n",
    "    line_size = 78\n",
    "    for i in range(index*2*line_size, index*2*line_size+2*line_size):\n",
    "        print(full_string[i])\n",
    "    \n",
    "\n",
    "size = int(input())\n",
    "\n",
    "all_strings = []\n",
    "\n",
    "for index in range(size):\n",
    "    data_entry = input()\n",
    "    densified_string = compress_string(data_entry)\n",
    "    all_strings.append(densified_string)\n",
    "\n",
    "filtered_entries = filter_entries(all_strings)\n",
    "unified_string = filtered_entries.join(\"|\")\n",
    "\n",
    "bee_crowd_print(unified_string, 1)\n"
   ]
  }
 ],
 "metadata": {
  "kernelspec": {
   "display_name": "Python 3",
   "language": "python",
   "name": "python3"
  },
  "language_info": {
   "codemirror_mode": {
    "name": "ipython",
    "version": 3
   },
   "file_extension": ".py",
   "mimetype": "text/x-python",
   "name": "python",
   "nbconvert_exporter": "python",
   "pygments_lexer": "ipython3",
   "version": "3.12.4"
  }
 },
 "nbformat": 4,
 "nbformat_minor": 2
}
