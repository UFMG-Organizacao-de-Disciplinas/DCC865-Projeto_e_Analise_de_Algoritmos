{
 "cells": [
  {
   "cell_type": "markdown",
   "metadata": {},
   "source": [
    "# [Onda Crítica][Onda]\n",
    "\n",
    "[Onda]: https://judge.beecrowd.com/pt/problems/view/1027\n",
    "\n",
    "Por Monirul Hasan Tomal, Southeast University  Bangladesh\n",
    "\n",
    "Timelimit: 2\n",
    "\n",
    "---\n",
    "\n",
    "![img](https://resources.beecrowd.com/gallery/images/problems/UOJ_1027.png)\n",
    "\n",
    "A tarefa é simples. Através de alguns pontos críticos em 2D, você deve desenhar uma onda como uma curva. Seu objetivo é incluir tantos pontos quantos forem possível.\n",
    "\n",
    "- Haverá uma linha imaginária $y = a$, a qual chamaremos de eixo principal para a curva.\n",
    "- Todos os pontos na curva deverão ter diferentes coordenadas $x$. Suas coordenadas $y$ devem ser na forma $a-1$ ou $a+1$.\n",
    "\n",
    "Dois pontos consecutivos na curva devem ter diferença de $2$ na coordenada $y$.\n",
    "\n",
    "## Entrada (Onda Crítica)\n",
    "\n",
    "Haverá no máximo, $222$ casos de testes. Cada caso inicia com um inteiro $N$, que é o número de pontos no caso de teste. Nas próximas $N$ linhas, haverá $N$ pares de inteiros dando as coordenadas $x$ e $y$ de cada ponto. Não haverá mais do que $1000$ pontos em cada caso de teste. Todas coordenadas são inteiros - eles devem ficar dentro de um inteiro de $2$ bytes com sinal. Os dados devem ser lidos da entrada padrão.\n",
    "\n",
    "## Saída (Onda Crítica)\n",
    "\n",
    "Para cada caso de teste, imprima um número - o número máximo de pontos críticos que podem ser incluídos em uma curva desenhada a partir dos pontos dados.\n",
    "\n",
    "## Exemplos (Onda Crítica)\n",
    "\n",
    "| Exemplo de Entrada | Exemplo de Saída |\n",
    "| -----------------: | ---------------: |\n",
    "|                 10 |                4 |\n",
    "|                0 1 |           &nbsp; |\n",
    "|                1 0 |           &nbsp; |\n",
    "|               1 -1 |           &nbsp; |\n",
    "|               2 -2 |           &nbsp; |\n",
    "|                3 1 |           &nbsp; |\n",
    "|               3 -1 |           &nbsp; |\n",
    "|               3 -2 |           &nbsp; |\n",
    "|                4 1 |           &nbsp; |\n",
    "|               4 -1 |           &nbsp; |\n",
    "|               5 -1 |           &nbsp; |\n",
    "|                 10 |                3 |\n",
    "|                0 2 |           &nbsp; |\n",
    "|                2 0 |           &nbsp; |\n",
    "|               1 -1 |           &nbsp; |\n",
    "|               2 -2 |           &nbsp; |\n",
    "|                3 1 |           &nbsp; |\n",
    "\n",
    "\"Se você não considerar sua vida como uma jornada, provavelmente não chegará a lugar algum e provavelmente ela irá parecer a você como uma trilha sem fim e sem esperança.\"\n"
   ]
  }
 ],
 "metadata": {
  "language_info": {
   "name": "python"
  }
 },
 "nbformat": 4,
 "nbformat_minor": 2
}
