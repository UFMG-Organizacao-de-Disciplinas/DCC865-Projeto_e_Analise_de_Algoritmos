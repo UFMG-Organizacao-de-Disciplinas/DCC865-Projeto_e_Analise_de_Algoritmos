{
 "cells": [
  {
   "cell_type": "markdown",
   "metadata": {},
   "source": [
    "# [Six Flags][SixFlags]\n",
    "\n",
    "[SixFlags]: https://judge.beecrowd.com/pt/problems/view/1487\n",
    "\n",
    "IX Maratona de Programação IME-USP Brasil\n",
    "\n",
    "Timelimit: 1\n",
    "\n",
    "---\n",
    "\n",
    "O Six Flags Fiesta Texas é um dos maiores parques de diversão do mundo, e fica em San Antonio. Sabendo que as finais do ACM-ICPC de 2006 serão naquela cidade, três colegas começaram a planejar em quais dos famosos brinquedos eles iriam, caso seu time se classificasse para as finais mundiais.\n",
    "\n",
    "Para isso, estabeleceram notas para cada uma das atrações de acordo com o quanto eles gostariam de brincar lá. Por exemplo, a montanha russa \"Superman Krypton Coaster\" (que tem 800 m de giros, loops e quedas com o carrinho indo a mais de 100 km/h) recebeu a maior pontuação possível entre os colegas.\n",
    "\n",
    "O problema é que é impossível visitar todas as atrações em um mesmo dia. Assim, os colegas pesquisaram, para cada uma delas, quanto tempo durava o brinquedo (e quanto tempo de fila teriam de enfrentar até chegar a ele...). Sua tarefa neste problema é encontrar, dado o tempo disponível pelos colegas no Six Flags, uma coleção (pode haver repetições) de atrações que dá a maior pontuação dentro deste período.\n",
    "\n",
    "## Entrada (Six Flags)\n",
    "\n",
    "Seu programa deve estar preparado para processar diversas instâncias. Na primeira linha são dados dois inteiros $0 \\leq N \\leq 100$ e $0 \\leq T \\leq 600$, em que $N$ é o número de atrações nas quais os colegas gostariam de brincar, e $T$ é o tempo (em minutos) que eles terão disponível para isso. Nas próximas $N$ linhas, são dados dois inteiros $0 \\leq D \\leq 600$ e $0 \\leq P \\leq 100$ (em cada linha). O primeiro deles, $D$, representa a duração do brinquedo (incluído aí o tempo de fila e uma estimativa do tempo de traslado entre os brinquedos). O segundo, $P$, representa a pontuação atribuída ao brinquedo pelos colegas. Um valor $N = 0$ indica o final das instâncias e não deverá ser processado.\n",
    "\n",
    "## Saída (Six Flags)\n",
    "\n",
    "Para cada instância solucionada, você deverá imprimir um identificador Instancia $H$ em que $H$ é um número inteiro, sequencial e crescente a partir de $1$. Na linha seguinte, deve ser impressa a pontuação total conseguida com a coleção determinada por seu programa. Com relação a quais são as atrações da coleção determinada, os colegas decidiram que iriam perguntar para você pessoalmente no futuro, já que eles não querem que outras pessoas saibam e venham a utilizá-la. Uma linha em branco deve ser impressa após cada caso de teste.\n",
    "\n",
    "## Exemplos (Six Flags)\n",
    "\n",
    "| Exemplo de Entrada | Exemplo de Saída |\n",
    "| -----------------: | :--------------- |\n",
    "|               5 60 | Instancia 1      |\n",
    "|              10 30 | 180              |\n",
    "|              20 32 | &nbsp;           |\n",
    "|                5 4 | Instancia 2      |\n",
    "|              50 90 | 104              |\n",
    "|              22 45 | &nbsp;           |\n",
    "|               5 60 | &nbsp;           |\n",
    "|              10 10 | &nbsp;           |\n",
    "|              20 32 | &nbsp;           |\n",
    "|                5 4 | &nbsp;           |\n",
    "|              50 90 | &nbsp;           |\n",
    "|              22 45 | &nbsp;           |\n",
    "|                0 0 | &nbsp;           |\n",
    "\n",
    "IX Maratona de Programação IME-USP 2005.\n"
   ]
  }
 ],
 "metadata": {
  "language_info": {
   "name": "python"
  }
 },
 "nbformat": 4,
 "nbformat_minor": 2
}
