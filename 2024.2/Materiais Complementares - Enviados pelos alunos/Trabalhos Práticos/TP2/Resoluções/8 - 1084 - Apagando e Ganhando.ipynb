{
 "cells": [
  {
   "cell_type": "markdown",
   "metadata": {},
   "source": [
    "# [Apagando e Ganhando][Apagando]\n",
    "\n",
    "[Apagando]: https://judge.beecrowd.com/pt/problems/view/1084\n",
    "\n",
    "Por Fábio Dias Moreira  Brasil\n",
    "\n",
    "Timelimit: 1\n",
    "\n",
    "---\n",
    "\n",
    "Juliano é fã do programa de auditório Apagando e Ganhando, um programa no qual os participantes são selecionados através de um sorteio e recebem prêmios em dinheiro por participarem.\n",
    "\n",
    "No programa, o apresentador escreve um número de $N$ dígitos em uma lousa. O participante então deve apagar exatamente $D$ dígitos do número que está na lousa; o número formado pelos dígitos que restaram é então o prêmio do participante.\n",
    "\n",
    "Juliano finalmente foi selecionado para participar do programa, e pediu que você escrevesse um programa que, dados o número que o apresentador escreveu na lousa, e quantos dígitos Juliano tem que apagar, determina o valor do maior prêmio que Juliano pode ganhar.\n",
    "\n",
    "## Entrada (Apagando e Ganhando)\n",
    "\n",
    "A entrada contém vários casos de teste. A primeira linha de cada caso de teste contém dois inteiros $N$ e $D (1 \\leq D < N \\leq 105)$, indicando a quantidade de dígitos do número que o apresentador escreveu na lousa e quantos dígitos devem ser apagados. A linha seguinte contém o número escrito pelo apresentador, que não contém zeros à esquerda.\n",
    "\n",
    "O final da entrada é indicado por uma linha que contém apenas dois zeros, separados por um espaço em branco.\n",
    "\n",
    "## Saída (Apagando e Ganhando)\n",
    "\n",
    "Para cada caso de teste da entrada seu programa deve imprimir uma única linha na saída, contendo o maior prêmio que Juliano pode ganhar.\n",
    "\n",
    "| Exemplo de Entrada | Exemplo de Saída |\n",
    "| -----------------: | ---------------: |\n",
    "|                4 2 |               79 |\n",
    "|               3759 |           &nbsp; |\n",
    "|                6 3 |              323 |\n",
    "|             123123 |           &nbsp; |\n",
    "|                7 4 |              100 |\n",
    "|            1000000 |           &nbsp; |\n",
    "|                7 3 |             1234 |\n",
    "|            1001234 |           &nbsp; |\n",
    "|                6 2 |             3759 |\n",
    "|             103759 |           &nbsp; |\n",
    "|                0 0 |           &nbsp; |\n",
    "\n",
    "Maratona de Programação da SBC 2008.\n"
   ]
  }
 ],
 "metadata": {
  "language_info": {
   "name": "python"
  }
 },
 "nbformat": 4,
 "nbformat_minor": 2
}
