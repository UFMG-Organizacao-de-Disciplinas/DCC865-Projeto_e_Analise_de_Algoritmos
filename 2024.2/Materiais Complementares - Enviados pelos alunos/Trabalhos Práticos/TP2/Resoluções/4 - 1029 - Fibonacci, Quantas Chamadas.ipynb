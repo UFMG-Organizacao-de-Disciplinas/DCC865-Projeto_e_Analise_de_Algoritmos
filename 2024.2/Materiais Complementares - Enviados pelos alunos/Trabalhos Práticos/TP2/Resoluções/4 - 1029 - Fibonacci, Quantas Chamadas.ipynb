{
 "cells": [
  {
   "cell_type": "markdown",
   "metadata": {},
   "source": [
    "# [Fibonacci, Quantas Chamadas?][Fibonacci]\n",
    "\n",
    "[Fibonacci]: https://judge.beecrowd.com/pt/problems/view/1029\n",
    "\n",
    "Por Neilor Tonin, URI  Brasil\n",
    "\n",
    "Timelimit: 1\n",
    "\n",
    "---\n",
    "\n",
    "Quase todo estudante de Ciência da Computação recebe em algum momento no início de seu curso de graduação algum problema envolvendo a sequência de Fibonacci. Tal sequência tem como os dois primeiros valores $0$ (zero) e $1$ (um) e cada próximo valor será sempre a soma dos dois valores imediatamente anteriores. Por definição, podemos apresentar a seguinte fórmula para encontrar qualquer número da sequência de Fibonacci:\n",
    "\n",
    "$$\n",
    "  fib(0) = 0 \\\\\n",
    "  fib(1) = 1 \\\\\n",
    "  fib(n) = fib(n-1) + fib(n-2);\n",
    "$$\n",
    "\n",
    "Uma das formas de encontrar o número de Fibonacci é através de chamadas recursivas. Isto é ilustrado a seguir, apresentando a árvore de derivação ao calcularmos o valor $fib(4)$, ou seja o 5º valor desta sequência:\n",
    "\n",
    "![IMG1029](https://resources.beecrowd.com/gallery/images/problems/UOJ_1029.png)\n",
    "\n",
    "Desta forma,\n",
    "\n",
    "- $fib(4) = 1+0+1+1+0 = 3$\n",
    "- Foram feitas 8 calls, ou seja, 8 chamadas recursivas.\n",
    "\n",
    "## Entrada (Fibonacci, Quantas Chamadas?)\n",
    "\n",
    "A primeira linha da entrada contém um único inteiro $N$, indicando o número de casos de teste. Cada caso de teste contém um inteiro $X (1 \\leq X \\leq 39)$.\n",
    "\n",
    "## Saída (Fibonacci, Quantas Chamadas?)\n",
    "\n",
    "Para cada caso de teste de entrada deverá ser apresentada uma linha de saída, no seguinte formato: $fib(n) = num_calls calls = result$, aonde $num_calls$ é o número de chamadas recursivas, tendo sempre um espaço antes e depois do sinal de igualdade, conforme o exemplo abaixo.\n",
    "\n",
    "## Exemplos (Fibonacci, Quantas Chamadas?)\n",
    "\n",
    "| Exemplo de Entrada | Exemplo de Saída      |\n",
    "| :----------------: | :-------------------- |\n",
    "|         2          | &nbsp;                |\n",
    "|         5          | fib(5) = 14 calls = 5 |\n",
    "|         4          | fib(4) = 8  calls = 3 |\n"
   ]
  }
 ],
 "metadata": {
  "language_info": {
   "name": "python"
  }
 },
 "nbformat": 4,
 "nbformat_minor": 2
}
