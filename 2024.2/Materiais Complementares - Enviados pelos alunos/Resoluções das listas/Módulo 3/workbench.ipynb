{
 "cells": [
  {
   "cell_type": "markdown",
   "metadata": {},
   "source": [
    "# Irra\n",
    "\n",
    "$$\n",
    "i + \\frac{i+j}{2} = \\\\\n",
    "\\frac{2i}{2} + \\frac{i+j}{2} =\\\\\n",
    "\\frac{2i + i+j}{2} =\\\\\n",
    "\\frac{3i+j}{2} =\\\\\n",
    "1,5*(i+j)\\\\\n",
    "$$"
   ]
  },
  {
   "cell_type": "code",
   "execution_count": null,
   "metadata": {},
   "outputs": [
    {
     "name": "stdout",
     "output_type": "stream",
     "text": [
      "buy on 1, sell on 5\n",
      "buy on 3, sell on 5\n",
      "If there was no way to make money during the 5 days\n"
     ]
    }
   ],
   "source": [
    "def get_best_pair(P):\n",
    "    n = len(P)\n",
    "    i = 0\n",
    "    j = 0\n",
    "    min_i = 0\n",
    "    max_diff = 0\n",
    "    for k in range(1, n):\n",
    "        if P[k] < P[min_i]:\n",
    "            min_i = k\n",
    "        diff = P[k] - P[min_i]\n",
    "        if diff > max_diff:\n",
    "            max_diff = diff\n",
    "            i = min_i\n",
    "            j = k\n",
    "    return f'If there was no way to make money during the {n} days' if i >= j else f'buy on {i+1}, sell on {j+1}'\n",
    "\n",
    "\n",
    "print(get_best_pair([1, 2, 3, 4, 5]))\n",
    "print(get_best_pair([3, 5, 1, 3, 4]))\n",
    "print(get_best_pair([5, 4, 3, 2, 1]))\n"
   ]
  },
  {
   "cell_type": "code",
   "execution_count": null,
   "metadata": {},
   "outputs": [],
   "source": [
    "\"\"\" Cap. 5, Solved Exercise 2 (Pag. 245-246) \"\"\"\n",
    "\n",
    "def get_best_pair(P):\n",
    "    def get_best_pair_rec(P, i, j):\n",
    "        size = len(P)\n",
    "        if size == 2:\n",
    "            return i, j\n",
    "\n",
    "        left_i, left_j = get_best_pair_rec(P[:size//2 + 1], i, i + size//2 - 1)\n",
    "        right_i, right_j = get_best_pair_rec(P[size//2:], i + size//2, j)\n",
    "        delta_left = P[left_j] - P[left_i]\n",
    "        delta_right = P[right_j] - P[right_i]\n",
    "\n",
    "        if delta_left > 0 and delta_right > 0:\n",
    "            delta_left_left = P[right_i] - P[left_i]\n",
    "            delta_left_right = P[right_j] - P[left_i]\n",
    "            if delta_left > delta_left_right and delta_left > delta_left_left:\n",
    "                return left_i, left_j\n",
    "            elif delta_left_right > delta_left_left:\n",
    "            \n",
    "\n",
    "    return get_best_pair_rec(P, 0, len(P) - 1)\n",
    "\n",
    "test_cases = [\n",
    "    [1, 2, 3, 4, 5, 6, 7, 8],\n",
    "    [8, 7, 6, 5, 4, 3, 2, 1],\n",
    "    [3, 5, 8, 6, 1, 4, 2, 7],\n",
    "]\n",
    "\n",
    "for P in test_cases:\n",
    "    print(get_best_pair(P))"
   ]
  }
 ],
 "metadata": {
  "kernelspec": {
   "display_name": "Python 3",
   "language": "python",
   "name": "python3"
  },
  "language_info": {
   "codemirror_mode": {
    "name": "ipython",
    "version": 3
   },
   "file_extension": ".py",
   "mimetype": "text/x-python",
   "name": "python",
   "nbconvert_exporter": "python",
   "pygments_lexer": "ipython3",
   "version": "3.12.4"
  }
 },
 "nbformat": 4,
 "nbformat_minor": 2
}
