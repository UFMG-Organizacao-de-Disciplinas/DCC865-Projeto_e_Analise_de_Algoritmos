{
 "cells": [
  {
   "cell_type": "markdown",
   "metadata": {},
   "source": [
    "# Irra\n",
    "\n",
    "$$\n",
    "i + \\frac{i+j}{2} = \\\\\n",
    "\\frac{2i}{2} + \\frac{i+j}{2} =\\\\\n",
    "\\frac{2i + i+j}{2} =\\\\\n",
    "\\frac{3i+j}{2} =\\\\\n",
    "1,5*(i+j)\\\\\n",
    "$$"
   ]
  },
  {
   "cell_type": "code",
   "execution_count": null,
   "metadata": {},
   "outputs": [
    {
     "name": "stdout",
     "output_type": "stream",
     "text": [
      "buy on 1, sell on 5\n",
      "buy on 3, sell on 5\n",
      "If there was no way to make money during the 5 days\n"
     ]
    }
   ],
   "source": [
    "def get_best_pair(P):\n",
    "    n = len(P)\n",
    "    i = 0\n",
    "    j = 0\n",
    "    min_i = 0\n",
    "    max_diff = 0\n",
    "    for k in range(1, n):\n",
    "        if P[k] < P[min_i]:\n",
    "            min_i = k\n",
    "        diff = P[k] - P[min_i]\n",
    "        if diff > max_diff:\n",
    "            max_diff = diff\n",
    "            i = min_i\n",
    "            j = k\n",
    "    return f'If there was no way to make money during the {n} days' if i >= j else f'buy on {i+1}, sell on {j+1}'\n",
    "\n",
    "\n",
    "print(get_best_pair([1, 2, 3, 4, 5]))\n",
    "print(get_best_pair([3, 5, 1, 3, 4]))\n",
    "print(get_best_pair([5, 4, 3, 2, 1]))\n"
   ]
  },
  {
   "cell_type": "code",
   "execution_count": null,
   "metadata": {},
   "outputs": [],
   "source": [
    "\"\"\" Cap. 5, Solved Exercise 2 (Pag. 245-246) \"\"\"\n",
    "\n",
    "def get_best_pair(P):\n",
    "    def get_best_pair_rec(P, i, j):\n",
    "        size = j - i\n",
    "        if size == 1:\n",
    "            pass\n",
    "            \n",
    "        i1, j1 = get_best_pair_rec(P, i, i + size//2)\n",
    "        i2, j2 = get_best_pair_rec(P, i + size//2 + 1, j)\n",
    "        \n",
    "        min_left = i1 if P[i1] < P[j1] else j1\n",
    "        max_right = i2 if P[i2] > P[j2] else j2\n",
    "        \n",
    "        delta_left = P[i1] - P[j1]\n",
    "        delta_right = P[i2] - P[j2]\n",
    "        inter_delta = P[max_right] - P[min_left]\n",
    "    \n",
    "    def fill_P(P):\n",
    "        P_size = len(P)\n",
    "        square = Math.log(P_size, 2)\n",
    "        teto = Math.ceil(square)\n",
    "        squared = 2**teto\n",
    "        \n",
    "        # print(f'size, square, teto, squared: {P_size}, {square}, {teto}, {squared}')\n",
    "        new_P_size = squared\n",
    "        new_P = [x for x in P]\n",
    "        for _ in range(P_size, new_P_size):\n",
    "            # print(i)\n",
    "            new_P.append(P[P_size-1])\n",
    "        return new_P\n",
    "    \n",
    "    return get_best_pair_rec(fill_P(P), 0, len(P) - 1)\n",
    "\n",
    "test_cases = [\n",
    "    [1, 2, 3, 4, 5, 6, 7, 8],\n",
    "    [8, 7, 6, 5, 4, 3, 2, 1],\n",
    "    [3, 5, 8, 6, 1, 4, 2, 7],\n",
    "]\n",
    "\n",
    "for P in test_cases:\n",
    "    print(get_best_pair(P))"
   ]
  },
  {
   "cell_type": "code",
   "execution_count": 1,
   "metadata": {},
   "outputs": [
    {
     "name": "stdout",
     "output_type": "stream",
     "text": [
      "16 [1, 2, 3, 4, 5, 6, 7, 8, 9, 9, 9, 9, 9, 9, 9, 9]\n"
     ]
    }
   ],
   "source": [
    "a = [1, 2, 3, 4, 5, 6, 7, 8, 9]\n",
    "import math as Math\n",
    "\n",
    "\n",
    "def fill_P(P):\n",
    "    P_size = len(P)\n",
    "    square = Math.log(P_size, 2)\n",
    "    teto = Math.ceil(square)\n",
    "    squared = 2**teto\n",
    "\n",
    "    # print(f'size, square, teto, squared: {P_size}, {square}, {teto}, {squared}')\n",
    "    new_P_size = squared\n",
    "    new_P = [x for x in P]\n",
    "    for _ in range(P_size, new_P_size):\n",
    "        # print(i)\n",
    "        new_P.append(P[P_size-1])\n",
    "    return new_P\n",
    "\n",
    "\n",
    "filled = fill_P(a)\n",
    "print(len(filled), filled)"
   ]
  },
  {
   "cell_type": "code",
   "execution_count": 47,
   "metadata": {},
   "outputs": [
    {
     "name": "stdout",
     "output_type": "stream",
     "text": [
      "A[3] = 7\t3\ti> [0, 7]: [1, 3, 5, 7, 9, 11, 13, 15]\n",
      "B[4] = 10\t4\tj> [0, 7]: [2, 4, 6, 8, 10, 12, 14, 16]\n",
      "\n",
      "3 7\n",
      "0 2 \n",
      "\n",
      "A[5] = 11\t5\ti> [3, 7]: [7, 9, 11, 13, 15]\n",
      "B[2] = 6\t2\tj> [0, 2]: [2, 4, 6]\n",
      "\n",
      "3 1\n",
      "2 2 \n",
      "\n",
      "6\n"
     ]
    },
    {
     "data": {
      "text/plain": [
       "6"
      ]
     },
     "execution_count": 47,
     "metadata": {},
     "output_type": "execute_result"
    }
   ],
   "source": [
    "\"\"\" Medianas \"\"\"\n",
    "\n",
    "test_cases = [\n",
    "    [[1, 2, 3, 4, 5, 6, 7, 8], [9, 10, 11, 12, 13, 14, 15, 16]], # Mediana nas extremidades internas\n",
    "    [[1, 3, 5, 7, 9, 11, 13, 15], [2, 4, 6, 8, 10, 12, 14, 16]], # Mediana no meio da esquerda\n",
    "    [[1, 2, 3, 8, 9, 10, 13, 14], [4, 5, 6, 7, 11, 12, 15, 16]], # Mediana no meio da direita\n",
    "    [[1, 2, 3, 4, 13, 14, 15, 16], [5, 6, 7, 8, 9, 10, 11, 12]], # Mediana apenas em um deles\n",
    "    [[1, 3, 8, 9, 15], [7, 11, 18, 19, 21]], # Mediana apenas em um deles\n",
    "    [[1, 3, 8, 29, 35], [7, 11, 18, 19, 21]], # Mediana apenas em um deles\n",
    "]\n",
    "\n",
    "test_case = test_cases[1]\n",
    "\n",
    "def get_i_a(i):\n",
    "    global test_case\n",
    "    return test_case[0][i]\n",
    "\n",
    "def get_i_b(i):\n",
    "    global test_case\n",
    "    return test_case[1][i]\n",
    "\n",
    "def helper(lista, i, j):\n",
    "    # append to the string all the items in the list from i to j\n",
    "    msg = \"\"\n",
    "    \n",
    "    for k in range(i, j+1):\n",
    "        msg += f'{lista[k]}, '\n",
    "    msg = \"[\" + msg[:-2] + ']'\n",
    "    # print(msg, end='')\n",
    "    return msg\n",
    "\n",
    "\n",
    "def get_mean_by_index_query(test_case):\n",
    "    size = len(test_case[0])\n",
    "    \n",
    "    left_i = left_j = 0\n",
    "    right_i = right_j = size - 1\n",
    "    \n",
    "    while (right_i - left_i > 1) or (right_j - left_j > 1):\n",
    "        mean_value_i = (right_i + left_i)//2\n",
    "        elem_i = get_i_a(mean_value_i)\n",
    "\n",
    "        mean_value_j = (right_j + left_j)//2 + 1\n",
    "        elem_j = get_i_b(mean_value_j)\n",
    "        \n",
    "        A_msg = f'A[{mean_value_i}] = {elem_i}\\t'\n",
    "        A_msg += f'{mean_value_i}\\t'\n",
    "        A_msg += f'i> [{left_i}, {right_i}]: '\n",
    "        A_msg += f'{helper(test_case[0], left_i, right_i)}'\n",
    "        \n",
    "        B_msg = f'B[{mean_value_j}] = {elem_j}\\t'\n",
    "        B_msg += f'{mean_value_j}\\t'\n",
    "        B_msg += f'j> [{left_j}, {right_j}]: '\n",
    "        B_msg += f'{helper(test_case[1], left_j, right_j)}'\n",
    "\n",
    "        print(A_msg + '\\n' + B_msg + '\\n')\n",
    "        \n",
    "        if elem_i < elem_j:\n",
    "            left_i = mean_value_i\n",
    "            right_j -= mean_value_j + 1\n",
    "        else:\n",
    "            left_j = mean_value_j\n",
    "            right_i -= mean_value_i + 1\n",
    "        \n",
    "        print(left_i, right_i)\n",
    "        print(left_j, right_j, '\\n')\n",
    "    \n",
    "    minimun = min(elem_i, elem_j)\n",
    "    print(minimun)\n",
    "    return minimun\n",
    "\n",
    "\n",
    "get_mean_by_index_query(test_case)\n",
    "    "
   ]
  }
 ],
 "metadata": {
  "kernelspec": {
   "display_name": "Python 3",
   "language": "python",
   "name": "python3"
  },
  "language_info": {
   "codemirror_mode": {
    "name": "ipython",
    "version": 3
   },
   "file_extension": ".py",
   "mimetype": "text/x-python",
   "name": "python",
   "nbconvert_exporter": "python",
   "pygments_lexer": "ipython3",
   "version": "3.12.4"
  }
 },
 "nbformat": 4,
 "nbformat_minor": 2
}
