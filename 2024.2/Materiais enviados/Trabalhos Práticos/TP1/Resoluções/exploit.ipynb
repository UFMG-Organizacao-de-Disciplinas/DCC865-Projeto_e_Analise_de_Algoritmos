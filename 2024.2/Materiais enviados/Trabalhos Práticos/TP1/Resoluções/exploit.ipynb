{
 "cells": [
  {
   "cell_type": "code",
   "execution_count": 1,
   "metadata": {},
   "outputs": [
    {
     "name": "stdout",
     "output_type": "stream",
     "text": [
      "450:42,9967;6335,6501;1479,9359;5706,8146;3282,6828;4828,5437;2392,4605;293,23\n",
      "83;7422,8717;9719,9896;1870,9913;5668,6300;7036,9895;5142,7712;5548,7645;\n",
      "\n"
     ]
    }
   ],
   "source": [
    "def exploit_beecrowd_output():\n",
    "    \"\"\" Exploit Beecrowd output \"\"\"\n",
    "    # 450:42,9967;6335,6501;1479,9359;5706,8146;3282,6828;4828,5482;100,301;808,909;1...\n",
    "    # 3,233;1,9;100,301;808,909;133,233;1,9;100,301;808,909;133,233;1,9;100,301;808,9...\n",
    "    test_cases = ['450', '42 9967', '6335 6501', '1479 9359', '5706 8146', '3282 6828', '4828 5437', '2392 4605', '293 2383',\n",
    "                  '7422 8717', '9719 9896', '1870 9913', '5668 6300', '7036 9895', '5142 7712', '5548 7645']  # , '2663 27...'\n",
    "    is_running_on_beecrowd = False\n",
    "    if is_running_on_beecrowd:\n",
    "        number_of_tests = input()\n",
    "        test_cases = [number_of_tests]\n",
    "        for _ in range(int(number_of_tests)):\n",
    "            test_cases.append(input())\n",
    "\n",
    "    list_of_integers = []\n",
    "    for test_case in test_cases:\n",
    "        list_of_integers += list(map(int, test_case.split()))\n",
    "\n",
    "    exploited_string = str(list_of_integers.pop(0)) + ':'\n",
    "    while len(list_of_integers) > 0:\n",
    "        exploited_string += f'{list_of_integers.pop(0)},{\n",
    "            list_of_integers.pop(0)};'\n",
    "    splitted_string = \"\"\n",
    "    for i in range(len(exploited_string)):\n",
    "        if i % 78 == 0:\n",
    "            splitted_string += exploited_string[i:i+78] + '\\n'\n",
    "    # print(exploited_string)\n",
    "    print(splitted_string)\n",
    "\n",
    "\n",
    "exploit_beecrowd_output()"
   ]
  },
  {
   "cell_type": "code",
   "execution_count": 2,
   "metadata": {},
   "outputs": [
    {
     "name": "stdout",
     "output_type": "stream",
     "text": [
      "001c200aa6ef62fd965171e48f5929fd23349aac4b7153d25611fd049494f73fa20d97de6a81d3a6b9589189c6df26a75059e2056b1ddd\n",
      "[450, 42, 9967, 6335, 6501, 1479, 9359, 5706, 8146, 3282, 6828, 4828, 5437, 2392, 4605, 293, 2383, 7422, 8717, 9719, 9896, 1870, 9913, 5668, 6300, 7036, 9895, 5142, 7712, 5548, 7645]\n"
     ]
    }
   ],
   "source": [
    "def encode_numbers(numbers):\n",
    "    # Convert numbers to a single binary string\n",
    "    binary_string = ''.join(f'{num:014b}' for num in numbers)\n",
    "    # Convert binary string to bytes for compact storage\n",
    "    byte_data = int(binary_string, 2).to_bytes(\n",
    "        (len(binary_string) + 7) // 8, byteorder='big')\n",
    "    return byte_data\n",
    "\n",
    "\n",
    "def decode_numbers(byte_data, count):\n",
    "    # Convert bytes back to binary string\n",
    "    binary_string = bin(int.from_bytes(byte_data, byteorder='big'))[2:]\n",
    "    # Ensure the string is padded to a multiple of 14 bits\n",
    "    binary_string = binary_string.zfill(count * 14)\n",
    "    # Split into 14-bit chunks and convert back to integers\n",
    "    numbers = [int(binary_string[i:i + 14], 2)\n",
    "               for i in range(0, len(binary_string), 14)]\n",
    "    return numbers\n",
    "\n",
    "\n",
    "# Example input (450 integers)\n",
    "numbers = [450, 42, 9967, 6335, 6501, 1479, 9359, 5706, 8146, 3282, 6828, 4828, 5437, 2392, 4605, 293, 2383,\n",
    "           # Add up to 450 numbers\n",
    "           7422, 8717, 9719, 9896, 1870, 9913, 5668, 6300, 7036, 9895, 5142, 7712, 5548, 7645]\n",
    "\n",
    "# Encode\n",
    "compressed_data = encode_numbers(numbers)\n",
    "\n",
    "print(compressed_data.hex())\n",
    "# Decode\n",
    "decoded_numbers = decode_numbers(compressed_data, len(numbers))\n",
    "print(decoded_numbers)\n",
    "\n",
    "# Verify\n",
    "# assert numbers == decoded_numbers"
   ]
  }
 ],
 "metadata": {
  "kernelspec": {
   "display_name": "Python 3",
   "language": "python",
   "name": "python3"
  },
  "language_info": {
   "codemirror_mode": {
    "name": "ipython",
    "version": 3
   },
   "file_extension": ".py",
   "mimetype": "text/x-python",
   "name": "python",
   "nbconvert_exporter": "python",
   "pygments_lexer": "ipython3",
   "version": "3.12.4"
  }
 },
 "nbformat": 4,
 "nbformat_minor": 2
}
