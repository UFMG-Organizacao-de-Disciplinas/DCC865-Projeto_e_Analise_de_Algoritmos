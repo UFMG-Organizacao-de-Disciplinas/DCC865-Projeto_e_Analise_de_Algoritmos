{
 "cells": [
  {
   "cell_type": "markdown",
   "metadata": {},
   "source": [
    "## [beecrowd | 1550 - Inversão](https://judge.beecrowd.com/pt/problems/view/1550)\n",
    "\n",
    "Por Gabriel Dalalio, ITA BR Brazil\n",
    "\n",
    "Timelimit: 3\n",
    "\n",
    "Pedro é um garoto curioso que gostava de eletrônica. Certo dia, o menino estava mexendo no laboratório de sua escola e encontrou uma caixa cheia de pequenos aparelhos eletrônicos feitos por outros alunos em anos anteriores.\n",
    "\n",
    "Dentro dessa caixa havia um aparelho que possuía apenas um visor e dois botões. Esse visor apresentava um número inteiro. Mexendo nos botões, Pedro descobriu para que servia cada um deles. O primeiro botão adicionava uma unidade ao número no visor. O segundo botão invertia os dígitos do número, por exemplo, 123 invertido resulta em 321 e 150 invertido resulta em 51 (ignora-se os zeros a esquerda).\n",
    "\n",
    "Inicialmente, o visor apresentava o número A. Após a descoberta da função dos botões, Pedro quer saber como fazer o número do visor mudar de A para um número maior igual a B. O seu trabalho nesse problema é ajudar Pedro a descobrir qual é o número mínimo de apertos de botão para que o número no visor passe a ser igual a B.\n",
    "\n",
    "### Entrada - beecrowd | 1550\n",
    "\n",
    "A entrada é iniciada por um inteiro $T, 0 < T ≤ 500$, que indica a quantidade de casos de teste a ser processados. Segue-se $T$ linhas cada uma contendo dois inteiros $A$ e $B$, $0 < A < B < 10000$, indicando respectivamente o número inicial no visor e o número que deve ser mostrado no visor depois de apertar os botões.\n",
    "\n",
    "### Saída - beecrowd | 1550\n",
    "\n",
    "Para cada caso de teste, o programa deve imprimir um inteiro indicando o número mínimo de apertos de botão para que o número do visor passe de $A$ para $B$.\n",
    "\n",
    "| Exemplo de Entrada | Exemplo de Saída |\n",
    "| ------------------ | ---------------- |\n",
    "| 4                  | &nbsp;           |\n",
    "| 1 9                | 8                |\n",
    "| 100 301            | 4                |\n",
    "| 808 909            | 3                |\n",
    "| 133 233            | 3                |\n",
    "\n",
    "[JV: Precisei colocar \"&nbsp;\" porque o ipynb não aceita tabelas com células vazias.]\n",
    "\n",
    "Aquecimento para a OBI 2014\n",
    "\n",
    "---\n"
   ]
  }
 ],
 "metadata": {
  "language_info": {
   "name": "python"
  }
 },
 "nbformat": 4,
 "nbformat_minor": 2
}
