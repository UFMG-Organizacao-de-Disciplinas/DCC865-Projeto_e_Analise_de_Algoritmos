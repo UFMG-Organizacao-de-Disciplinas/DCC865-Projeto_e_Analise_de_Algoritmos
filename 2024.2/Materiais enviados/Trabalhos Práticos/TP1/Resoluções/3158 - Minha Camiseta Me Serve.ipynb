{
 "cells": [
  {
   "cell_type": "markdown",
   "metadata": {},
   "source": [
    "# [beecrowd | 1362 - Minha Camiseta Me Serve](https://judge.beecrowd.com/pt/problems/view/1362)\n",
    "\n",
    "Por Ginés García Mateos, UM  Espanha\n",
    "\n",
    "Timelimit: 1\n",
    "\n",
    "Nosso amigo Victor é instrutor em um programa ambiental voluntário. O chefe de Victor pediu para ele distribuir $N$ camisetas para $M$ voluntários ($N$ é múltiplo de seis, e $N \\geq M$). Cada voluntário deve receber exatamente uma camiseta (se $N \\neq M$, algumas camisetas podem sobrar). Há o mesmo número de camisetas disponíveis para cada tamanho de camiseta possível: XXL, XL, L, M, S e XS (siglas em inglês para P, M, G, etc.). Victor tem um pequeno problema: apenas dois tamanhos de camisetas servem para cada voluntário.\n",
    "\n",
    "Você deve escrever um programa que decide se Victor pode distribuir as camisetas de tal forma que todo voluntário tenha uma camiseta que lhe serve.\n",
    "\n",
    "## Entrada - beecrowd | 3158\n",
    "\n",
    "A primeira linha da entrada contém o número de casos de teste.\n",
    "\n",
    "Para cada caso de teste, há uma linha contendo os números $N$ e $M$. O número $N$ é múltiplo de seis, $1 \\leq N \\leq 36$, e indica o número total de camisetas disponíveis. O número $M$, $1 \\leq M \\leq 30$, indica o número de voluntários, com $N \\geq M$. As próximas $M$ linhas descrevem os voluntários, um por linha. Cada linha contém dois tamanhos de camiseta possíveis (XXL, XL, L, M, S ou XS) separados por um espaço, indicando quais tamanhos servem para o voluntário.\n",
    "\n",
    "## Saída - beecrowd | 3158\n",
    "\n",
    "Para cada caso teste, imprima uma linha contendo YES se existe pelo menos uma maneira de distribuir as camisetas de tal forma que todo voluntário tenha uma camiseta que lhe serve, ou NO caso contrário.\n",
    "\n",
    "| Exemplo de Entrada | Exemplo de Saída |\n",
    "| ------------------ | ---------------- |\n",
    "| 3                  | YES              |\n",
    "| 18 6               | &nbsp;           |\n",
    "| L XL               | &nbsp;           |\n",
    "| XL L               | &nbsp;           |\n",
    "| XXL XL             | &nbsp;           |\n",
    "| S XS               | &nbsp;           |\n",
    "| M S                | &nbsp;           |\n",
    "| M L                | &nbsp;           |\n",
    "| 6 4                | NO               |\n",
    "| S XL               | &nbsp;           |\n",
    "| L S                | &nbsp;           |\n",
    "| L XL               | &nbsp;           |\n",
    "| L XL               | &nbsp;           |\n",
    "| 6 1                | YES              |\n",
    "| L M                | &nbsp;           |\n",
    "\n",
    "[JV: Precisei colocar \"&nbsp;\" porque o ipynb não aceita tabelas com células vazias.]\n",
    "\n",
    "OMP'09, Facultad de Informatica. Universidad de Murcia (SPAIN).\n",
    "\n",
    "---\n"
   ]
  },
  {
   "cell_type": "code",
   "execution_count": 2,
   "metadata": {},
   "outputs": [
    {
     "name": "stdout",
     "output_type": "stream",
     "text": [
      "[]\n",
      "\n"
     ]
    }
   ],
   "source": [
    "\"\"\" Input \"\"\"\n",
    "\n",
    "\n",
    "def get_input():\n",
    "    \"\"\" Get input from user \"\"\"\n",
    "    data_input = []\n",
    "    return data_input\n",
    "\n",
    "\n",
    "def minha_camiseta(input_dados):\n",
    "    \"\"\" Minha Camiseta Me Serve \"\"\"\n",
    "    result = input_dados\n",
    "    return result\n",
    "\n",
    "\n",
    "def format_output(output_dados):\n",
    "    \"\"\" Format output \"\"\"\n",
    "    formatted_output = \"\"\n",
    "    for output in output_dados:\n",
    "        formatted_output += str(output) + \"\\n\\n\"\n",
    "    return formatted_output\n",
    "\n",
    "\n",
    "def main():\n",
    "    \"\"\" Main function \"\"\"\n",
    "    input_dados = get_input()\n",
    "    print(input_dados)\n",
    "    output_dados = minha_camiseta(input_dados)\n",
    "    formatted_output = format_output(output_dados)\n",
    "    print(formatted_output)\n",
    "\n",
    "\n",
    "main()"
   ]
  }
 ],
 "metadata": {
  "kernelspec": {
   "display_name": "Python 3",
   "language": "python",
   "name": "python3"
  },
  "language_info": {
   "codemirror_mode": {
    "name": "ipython",
    "version": 3
   },
   "file_extension": ".py",
   "mimetype": "text/x-python",
   "name": "python",
   "nbconvert_exporter": "python",
   "pygments_lexer": "ipython3",
   "version": "3.12.4"
  }
 },
 "nbformat": 4,
 "nbformat_minor": 2
}
