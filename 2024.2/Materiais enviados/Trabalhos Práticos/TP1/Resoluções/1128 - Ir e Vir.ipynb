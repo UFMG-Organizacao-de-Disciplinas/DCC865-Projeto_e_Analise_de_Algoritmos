{
 "cells": [
  {
   "cell_type": "markdown",
   "metadata": {},
   "source": [
    "# [beecrowd | 1128 - Ir e Vir](https://judge.beecrowd.com/pt/problems/view/3356)\n",
    "\n",
    "Maratona de Programação da SBC  Brasil\n",
    "\n",
    "Timelimit: 1\n",
    "\n",
    "Numa certa cidade há N intersecções ligadas por ruas de mão única e ruas com mão dupla de direcão. É uma cidade moderna, de forma que muitas ruas atravessam túneis ou têm viadutos. Evidentemente é necessário que se possa viajar entre quaisquer duas intersecções, isto é, dadas duas intersecções $V$ e $W$, deve ser possível viajar de $V$ para $W$ e de $W$ para $V$.\n",
    "\n",
    "Sua tarefa é escrever um programa que leia a descrição do sistema de tráfego de uma cidade e determine se o requisito de conexidade é satisfeito ou não.\n",
    "\n",
    "## Entrada - beecrowd | 1128\n",
    "\n",
    "A entrada contém vários casos de teste. A primeira linha de um caso de teste contém dois números inteiros $N$ e $M$, separados por um espaço em branco, indicando respectivamente o número de intersecções $(2 ≤ N ≤ 2000)$ e o número de ruas $(2 ≤ M ≤ N(N−1)/2)$. O caso de teste tem ainda mais M linhas, que contêm, cada uma, uma descrição de cada uma das $M$ ruas. A descrição consiste de três inteiros $V$, $W$ e $P$, separados por um espaço em branco, onde $V$ e $W$ são identificadores distintos de intersecções $(1 ≤ V, W ≤ N , V ≠ W)$ e $P$ pode ser 1 ou 2; se $P = 1$ então a rua é de mão única, e vai de $V$ para $W$; se $P = 2$ então a rua é de mão dupla, liga $V$ e $W$. Não existe duas ruas ligando as mesmas intersecções.\n",
    "\n",
    "O ultimo caso de teste é seguido por uma linha que contém apenas dois números zero separados por um espaço em branco.\n",
    "\n",
    "## Saída - beecrowd | 1128\n",
    "\n",
    "Para cada caso de teste seu programa deve imprimir uma linha contendo um inteiro G, onde G é igual a 1 se o requisito de conexidade está satisfeito, ou $G$ é igual a $0$, caso contrário.\n",
    "\n",
    "| Exemplo de Entrada | Exemplo de Saída |\n",
    "| ------------------ | ---------------- |\n",
    "| 4 5                | 1                |\n",
    "| 1 2 1              | 1                |\n",
    "| 1 3 2              | 0                |\n",
    "| 2 4 1              | 0                |\n",
    "| 3 4 1              | &nbsp;           |\n",
    "| 4 1 2              | &nbsp;           |\n",
    "| 3 2                | &nbsp;           |\n",
    "| 1 2 2              | &nbsp;           |\n",
    "| 1 3 2              | &nbsp;           |\n",
    "| 3 2                | &nbsp;           |\n",
    "| 1 2 2              | &nbsp;           |\n",
    "| 1 3 1              | &nbsp;           |\n",
    "| 4 2                | &nbsp;           |\n",
    "| 1 2 2              | &nbsp;           |\n",
    "| 3 4 2              | &nbsp;           |\n",
    "| 0 0                | &nbsp;           |\n",
    "\n",
    "[JV: Precisei colocar \"&nbsp;\" porque o ipynb não aceita tabelas com células vazias.]\n",
    "\n",
    "Maratona de Programação da SBC 2010\n",
    "\n",
    "---\n"
   ]
  }
 ],
 "metadata": {
  "language_info": {
   "name": "python"
  }
 },
 "nbformat": 4,
 "nbformat_minor": 2
}
